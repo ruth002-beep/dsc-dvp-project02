{
 "cells": [
  {
   "cell_type": "markdown",
   "id": "88f88dcb-2d27-4482-91bb-8403c07bdc49",
   "metadata": {},
   "source": [
    "This is the link to my google slides presentation : https://docs.google.com/presentation/d/1sjbv5-tf_yvIosTjTdf5kzJidzgWWYgBhn8v_kWfNVI/edit?usp=sharing"
   ]
  },
  {
   "cell_type": "markdown",
   "id": "16d7a858-af51-494d-ae19-181a0a2a0fc7",
   "metadata": {},
   "source": [
    "this is the link to my dashboard(tableau work)https://public.tableau.com/app/profile/ruth.mueni/viz/Workbook-project2/Dashboard1?publish=yes"
   ]
  },
  {
   "cell_type": "code",
   "execution_count": null,
   "id": "f15ed77c-9d50-474b-9e03-a323f956c160",
   "metadata": {},
   "outputs": [],
   "source": []
  },
  {
   "cell_type": "code",
   "execution_count": 35,
   "id": "9a15d772-14d4-4072-ab49-82660b6821d0",
   "metadata": {},
   "outputs": [],
   "source": [
    "import pandas as pd\n",
    "import numpy as np\n",
    "import matplotlib.pyplot as plt\n",
    "import seaborn as sns\n",
    "\n",
    "%matplotlib inline"
   ]
  },
  {
   "cell_type": "markdown",
   "id": "9c4e6537-9253-4460-84c1-24b88e6aa951",
   "metadata": {},
   "source": [
    "Open the Uganda_Karamoja_District_Crop_Yield_Population_file"
   ]
  },
  {
   "cell_type": "code",
   "execution_count": 37,
   "id": "787e5b85-fdfb-4324-99f6-46b55e36787c",
   "metadata": {},
   "outputs": [
    {
     "name": "stdout",
     "output_type": "stream",
     "text": [
      "['OBJECTID', 'NAME', 'POP', 'Area', 'S_Yield_Ha', 'M_Yield_Ha', 'Crop_Area_Ha', 'S_Area_Ha', 'M_Area_Ha', 'S_Prod_Tot', 'M_Prod_Tot']\n",
      "['92', 'ABIM', '90385', '2771977106', '449', '1040', '5470.068394', '3277.295971', '1848.621855', '1471506', '1922567']\n",
      "['96', 'AMUDAT', '101790', '1643582836', '205', '1297', '5765.443719', '2973.42386', '2733.661014', '609552', '3545558']\n",
      "['20', 'KAABONG', '627057', '7373606003', '279', '945', '28121.67253', '20544.19496', '7394.416334', '5731830', '6987723']\n",
      "['85', 'KOTIDO', '243157', '3641539808', '331', '1148', '53032.64945', '50247.4439', '1751.372284', '16631904', '2010575']\n"
     ]
    }
   ],
   "source": [
    "import csv\n",
    "#specify the filepath\n",
    "file = r'C:\\DATA\\TABLES\\Uganda_Karamoja_District_Crop_Yield_Population.csv'\n",
    "\n",
    "with open(file, mode='r', newline='', encoding='utf-8') as csvfile:\n",
    "    reader = csv.reader(csvfile)\n",
    "    #print the first 5 rows\n",
    "    for i, row in enumerate(reader):\n",
    "        print(row)\n",
    "        if i ==4: #stop after printing 5 rows\n",
    "            break"
   ]
  },
  {
   "cell_type": "code",
   "execution_count": 57,
   "id": "7fc206e6-6858-49a7-9e3b-b65d01ca4f48",
   "metadata": {},
   "outputs": [
    {
     "data": {
      "text/html": [
       "<div>\n",
       "<style scoped>\n",
       "    .dataframe tbody tr th:only-of-type {\n",
       "        vertical-align: middle;\n",
       "    }\n",
       "\n",
       "    .dataframe tbody tr th {\n",
       "        vertical-align: top;\n",
       "    }\n",
       "\n",
       "    .dataframe thead th {\n",
       "        text-align: right;\n",
       "    }\n",
       "</style>\n",
       "<table border=\"1\" class=\"dataframe\">\n",
       "  <thead>\n",
       "    <tr style=\"text-align: right;\">\n",
       "      <th></th>\n",
       "      <th>OBJECTID</th>\n",
       "      <th>NAME</th>\n",
       "      <th>POP</th>\n",
       "      <th>Area</th>\n",
       "      <th>S_Yield_Ha</th>\n",
       "      <th>M_Yield_Ha</th>\n",
       "      <th>Crop_Area_Ha</th>\n",
       "      <th>S_Area_Ha</th>\n",
       "      <th>M_Area_Ha</th>\n",
       "      <th>S_Prod_Tot</th>\n",
       "      <th>M_Prod_Tot</th>\n",
       "    </tr>\n",
       "  </thead>\n",
       "  <tbody>\n",
       "    <tr>\n",
       "      <th>0</th>\n",
       "      <td>92</td>\n",
       "      <td>ABIM</td>\n",
       "      <td>90385</td>\n",
       "      <td>2771977106</td>\n",
       "      <td>449</td>\n",
       "      <td>1040</td>\n",
       "      <td>5470.068394</td>\n",
       "      <td>3277.295971</td>\n",
       "      <td>1848.621855</td>\n",
       "      <td>1471506</td>\n",
       "      <td>1922567</td>\n",
       "    </tr>\n",
       "    <tr>\n",
       "      <th>1</th>\n",
       "      <td>96</td>\n",
       "      <td>AMUDAT</td>\n",
       "      <td>101790</td>\n",
       "      <td>1643582836</td>\n",
       "      <td>205</td>\n",
       "      <td>1297</td>\n",
       "      <td>5765.443719</td>\n",
       "      <td>2973.423860</td>\n",
       "      <td>2733.661014</td>\n",
       "      <td>609552</td>\n",
       "      <td>3545558</td>\n",
       "    </tr>\n",
       "    <tr>\n",
       "      <th>2</th>\n",
       "      <td>20</td>\n",
       "      <td>KAABONG</td>\n",
       "      <td>627057</td>\n",
       "      <td>7373606003</td>\n",
       "      <td>279</td>\n",
       "      <td>945</td>\n",
       "      <td>28121.672530</td>\n",
       "      <td>20544.194960</td>\n",
       "      <td>7394.416334</td>\n",
       "      <td>5731830</td>\n",
       "      <td>6987723</td>\n",
       "    </tr>\n",
       "    <tr>\n",
       "      <th>3</th>\n",
       "      <td>85</td>\n",
       "      <td>KOTIDO</td>\n",
       "      <td>243157</td>\n",
       "      <td>3641539808</td>\n",
       "      <td>331</td>\n",
       "      <td>1148</td>\n",
       "      <td>53032.649450</td>\n",
       "      <td>50247.443900</td>\n",
       "      <td>1751.372284</td>\n",
       "      <td>16631904</td>\n",
       "      <td>2010575</td>\n",
       "    </tr>\n",
       "    <tr>\n",
       "      <th>4</th>\n",
       "      <td>5</td>\n",
       "      <td>MOROTO</td>\n",
       "      <td>127811</td>\n",
       "      <td>3570160948</td>\n",
       "      <td>128</td>\n",
       "      <td>355</td>\n",
       "      <td>5954.814048</td>\n",
       "      <td>4741.748776</td>\n",
       "      <td>1190.050606</td>\n",
       "      <td>606944</td>\n",
       "      <td>422468</td>\n",
       "    </tr>\n",
       "  </tbody>\n",
       "</table>\n",
       "</div>"
      ],
      "text/plain": [
       "   OBJECTID     NAME     POP        Area  S_Yield_Ha  M_Yield_Ha  \\\n",
       "0        92     ABIM   90385  2771977106         449        1040   \n",
       "1        96   AMUDAT  101790  1643582836         205        1297   \n",
       "2        20  KAABONG  627057  7373606003         279         945   \n",
       "3        85   KOTIDO  243157  3641539808         331        1148   \n",
       "4         5   MOROTO  127811  3570160948         128         355   \n",
       "\n",
       "   Crop_Area_Ha     S_Area_Ha    M_Area_Ha  S_Prod_Tot  M_Prod_Tot  \n",
       "0   5470.068394   3277.295971  1848.621855     1471506     1922567  \n",
       "1   5765.443719   2973.423860  2733.661014      609552     3545558  \n",
       "2  28121.672530  20544.194960  7394.416334     5731830     6987723  \n",
       "3  53032.649450  50247.443900  1751.372284    16631904     2010575  \n",
       "4   5954.814048   4741.748776  1190.050606      606944      422468  "
      ]
     },
     "execution_count": 57,
     "metadata": {},
     "output_type": "execute_result"
    }
   ],
   "source": [
    "#print the fist 5 rows\n",
    "#just another way to extract or import the csv field\n",
    "df = pd.read_csv(r'C:\\DATA\\TABLES\\Uganda_Karamoja_District_Crop_Yield_Population.csv')\n",
    "df.head()"
   ]
  },
  {
   "cell_type": "code",
   "execution_count": 5,
   "id": "d8731c50-f0b2-4104-9c94-72b75137f108",
   "metadata": {},
   "outputs": [
    {
     "name": "stdout",
     "output_type": "stream",
     "text": [
      "<class 'pandas.core.frame.DataFrame'>\n",
      "RangeIndex: 7 entries, 0 to 6\n",
      "Data columns (total 11 columns):\n",
      " #   Column        Non-Null Count  Dtype  \n",
      "---  ------        --------------  -----  \n",
      " 0   OBJECTID      7 non-null      int64  \n",
      " 1   NAME          7 non-null      object \n",
      " 2   POP           7 non-null      int64  \n",
      " 3   Area          7 non-null      int64  \n",
      " 4   S_Yield_Ha    7 non-null      int64  \n",
      " 5   M_Yield_Ha    7 non-null      int64  \n",
      " 6   Crop_Area_Ha  7 non-null      float64\n",
      " 7   S_Area_Ha     7 non-null      float64\n",
      " 8   M_Area_Ha     7 non-null      float64\n",
      " 9   S_Prod_Tot    7 non-null      int64  \n",
      " 10  M_Prod_Tot    7 non-null      int64  \n",
      "dtypes: float64(3), int64(7), object(1)\n",
      "memory usage: 748.0+ bytes\n",
      "None\n"
     ]
    }
   ],
   "source": [
    "#view information on the dataset\n",
    "print(df.info())"
   ]
  },
  {
   "cell_type": "code",
   "execution_count": 6,
   "id": "6521ffb0-2a8e-4bed-a208-79eda2b02db5",
   "metadata": {},
   "outputs": [
    {
     "data": {
      "text/plain": [
       "Index(['OBJECTID', 'NAME', 'POP', 'Area', 'S_Yield_Ha', 'M_Yield_Ha',\n",
       "       'Crop_Area_Ha', 'S_Area_Ha', 'M_Area_Ha', 'S_Prod_Tot', 'M_Prod_Tot'],\n",
       "      dtype='object')"
      ]
     },
     "execution_count": 6,
     "metadata": {},
     "output_type": "execute_result"
    }
   ],
   "source": [
    "#check columns\n",
    "df.columns"
   ]
  },
  {
   "cell_type": "code",
   "execution_count": 7,
   "id": "0e788d53-462e-4534-947e-bda00a1e0ec5",
   "metadata": {},
   "outputs": [
    {
     "data": {
      "text/plain": [
       "0             ABIM\n",
       "1           AMUDAT\n",
       "2          KAABONG\n",
       "3           KOTIDO\n",
       "4           MOROTO\n",
       "5    NAKAPIRIPIRIT\n",
       "6            NAPAK\n",
       "Name: NAME, dtype: object"
      ]
     },
     "execution_count": 7,
     "metadata": {},
     "output_type": "execute_result"
    }
   ],
   "source": [
    "#check for a specific column lets say column \"NAME\"\n",
    "df['NAME']"
   ]
  },
  {
   "cell_type": "code",
   "execution_count": 8,
   "id": "0bc7b749-7ab2-44b4-95a1-2b6d19d05c1b",
   "metadata": {},
   "outputs": [
    {
     "data": {
      "text/plain": [
       "count        7\n",
       "unique       7\n",
       "top       ABIM\n",
       "freq         1\n",
       "Name: NAME, dtype: object"
      ]
     },
     "execution_count": 8,
     "metadata": {},
     "output_type": "execute_result"
    }
   ],
   "source": [
    "#view summary statistics for the \"NAME\" column\n",
    "df['NAME'].describe()"
   ]
  },
  {
   "cell_type": "code",
   "execution_count": 9,
   "id": "daf3e259-6a6b-4936-b712-f52c49379fa9",
   "metadata": {},
   "outputs": [
    {
     "data": {
      "text/plain": [
       "(7, 11)"
      ]
     },
     "execution_count": 9,
     "metadata": {},
     "output_type": "execute_result"
    }
   ],
   "source": [
    "#view the shape of the dataset\n",
    "df.shape"
   ]
  },
  {
   "cell_type": "code",
   "execution_count": 10,
   "id": "278f54e6-1447-45a2-9b26-e1081fb950dc",
   "metadata": {},
   "outputs": [
    {
     "data": {
      "text/html": [
       "<div>\n",
       "<style scoped>\n",
       "    .dataframe tbody tr th:only-of-type {\n",
       "        vertical-align: middle;\n",
       "    }\n",
       "\n",
       "    .dataframe tbody tr th {\n",
       "        vertical-align: top;\n",
       "    }\n",
       "\n",
       "    .dataframe thead th {\n",
       "        text-align: right;\n",
       "    }\n",
       "</style>\n",
       "<table border=\"1\" class=\"dataframe\">\n",
       "  <thead>\n",
       "    <tr style=\"text-align: right;\">\n",
       "      <th></th>\n",
       "      <th>OBJECTID</th>\n",
       "      <th>POP</th>\n",
       "      <th>Area</th>\n",
       "      <th>S_Yield_Ha</th>\n",
       "      <th>M_Yield_Ha</th>\n",
       "      <th>Crop_Area_Ha</th>\n",
       "      <th>S_Area_Ha</th>\n",
       "      <th>M_Area_Ha</th>\n",
       "      <th>S_Prod_Tot</th>\n",
       "      <th>M_Prod_Tot</th>\n",
       "    </tr>\n",
       "  </thead>\n",
       "  <tbody>\n",
       "    <tr>\n",
       "      <th>count</th>\n",
       "      <td>7.000000</td>\n",
       "      <td>7.000000</td>\n",
       "      <td>7.000000e+00</td>\n",
       "      <td>7.000000</td>\n",
       "      <td>7.000000</td>\n",
       "      <td>7.000000</td>\n",
       "      <td>7.000000</td>\n",
       "      <td>7.000000</td>\n",
       "      <td>7.000000e+00</td>\n",
       "      <td>7.000000e+00</td>\n",
       "    </tr>\n",
       "    <tr>\n",
       "      <th>mean</th>\n",
       "      <td>61.714286</td>\n",
       "      <td>214943.571429</td>\n",
       "      <td>3.960853e+09</td>\n",
       "      <td>269.285714</td>\n",
       "      <td>986.142857</td>\n",
       "      <td>21094.520379</td>\n",
       "      <td>16737.636651</td>\n",
       "      <td>3983.947082</td>\n",
       "      <td>4.873098e+06</td>\n",
       "      <td>4.085632e+06</td>\n",
       "    </tr>\n",
       "    <tr>\n",
       "      <th>std</th>\n",
       "      <td>36.481567</td>\n",
       "      <td>188604.280916</td>\n",
       "      <td>1.781860e+09</td>\n",
       "      <td>119.243049</td>\n",
       "      <td>321.566700</td>\n",
       "      <td>17363.854165</td>\n",
       "      <td>16625.963460</td>\n",
       "      <td>2678.911441</td>\n",
       "      <td>5.743724e+06</td>\n",
       "      <td>2.877188e+06</td>\n",
       "    </tr>\n",
       "    <tr>\n",
       "      <th>min</th>\n",
       "      <td>5.000000</td>\n",
       "      <td>90385.000000</td>\n",
       "      <td>1.643583e+09</td>\n",
       "      <td>128.000000</td>\n",
       "      <td>355.000000</td>\n",
       "      <td>5470.068394</td>\n",
       "      <td>2973.423860</td>\n",
       "      <td>1190.050606</td>\n",
       "      <td>6.069440e+05</td>\n",
       "      <td>4.224680e+05</td>\n",
       "    </tr>\n",
       "    <tr>\n",
       "      <th>25%</th>\n",
       "      <td>37.000000</td>\n",
       "      <td>114800.500000</td>\n",
       "      <td>3.171069e+09</td>\n",
       "      <td>171.000000</td>\n",
       "      <td>899.500000</td>\n",
       "      <td>5860.128883</td>\n",
       "      <td>4009.522373</td>\n",
       "      <td>1799.997070</td>\n",
       "      <td>1.040529e+06</td>\n",
       "      <td>1.966571e+06</td>\n",
       "    </tr>\n",
       "    <tr>\n",
       "      <th>50%</th>\n",
       "      <td>80.000000</td>\n",
       "      <td>146780.000000</td>\n",
       "      <td>3.641540e+09</td>\n",
       "      <td>279.000000</td>\n",
       "      <td>1040.000000</td>\n",
       "      <td>22944.296020</td>\n",
       "      <td>16142.015880</td>\n",
       "      <td>2733.661014</td>\n",
       "      <td>2.211456e+06</td>\n",
       "      <td>3.545558e+06</td>\n",
       "    </tr>\n",
       "    <tr>\n",
       "      <th>75%</th>\n",
       "      <td>88.500000</td>\n",
       "      <td>205391.000000</td>\n",
       "      <td>4.362553e+09</td>\n",
       "      <td>343.500000</td>\n",
       "      <td>1206.000000</td>\n",
       "      <td>27247.185510</td>\n",
       "      <td>19890.764085</td>\n",
       "      <td>6484.753740</td>\n",
       "      <td>6.290160e+06</td>\n",
       "      <td>6.288030e+06</td>\n",
       "    </tr>\n",
       "    <tr>\n",
       "      <th>max</th>\n",
       "      <td>96.000000</td>\n",
       "      <td>627057.000000</td>\n",
       "      <td>7.373606e+09</td>\n",
       "      <td>449.000000</td>\n",
       "      <td>1297.000000</td>\n",
       "      <td>53032.649450</td>\n",
       "      <td>50247.443900</td>\n",
       "      <td>7394.416334</td>\n",
       "      <td>1.663190e+07</td>\n",
       "      <td>8.122197e+06</td>\n",
       "    </tr>\n",
       "  </tbody>\n",
       "</table>\n",
       "</div>"
      ],
      "text/plain": [
       "        OBJECTID            POP          Area  S_Yield_Ha   M_Yield_Ha  \\\n",
       "count   7.000000       7.000000  7.000000e+00    7.000000     7.000000   \n",
       "mean   61.714286  214943.571429  3.960853e+09  269.285714   986.142857   \n",
       "std    36.481567  188604.280916  1.781860e+09  119.243049   321.566700   \n",
       "min     5.000000   90385.000000  1.643583e+09  128.000000   355.000000   \n",
       "25%    37.000000  114800.500000  3.171069e+09  171.000000   899.500000   \n",
       "50%    80.000000  146780.000000  3.641540e+09  279.000000  1040.000000   \n",
       "75%    88.500000  205391.000000  4.362553e+09  343.500000  1206.000000   \n",
       "max    96.000000  627057.000000  7.373606e+09  449.000000  1297.000000   \n",
       "\n",
       "       Crop_Area_Ha     S_Area_Ha    M_Area_Ha    S_Prod_Tot    M_Prod_Tot  \n",
       "count      7.000000      7.000000     7.000000  7.000000e+00  7.000000e+00  \n",
       "mean   21094.520379  16737.636651  3983.947082  4.873098e+06  4.085632e+06  \n",
       "std    17363.854165  16625.963460  2678.911441  5.743724e+06  2.877188e+06  \n",
       "min     5470.068394   2973.423860  1190.050606  6.069440e+05  4.224680e+05  \n",
       "25%     5860.128883   4009.522373  1799.997070  1.040529e+06  1.966571e+06  \n",
       "50%    22944.296020  16142.015880  2733.661014  2.211456e+06  3.545558e+06  \n",
       "75%    27247.185510  19890.764085  6484.753740  6.290160e+06  6.288030e+06  \n",
       "max    53032.649450  50247.443900  7394.416334  1.663190e+07  8.122197e+06  "
      ]
     },
     "execution_count": 10,
     "metadata": {},
     "output_type": "execute_result"
    }
   ],
   "source": [
    "#view summary statistics for each column in the dataset\n",
    "df.describe()"
   ]
  },
  {
   "cell_type": "code",
   "execution_count": 11,
   "id": "1c0e504d-5a28-462f-ae52-7c8f7c7d0abc",
   "metadata": {},
   "outputs": [
    {
     "data": {
      "text/html": [
       "<div>\n",
       "<style scoped>\n",
       "    .dataframe tbody tr th:only-of-type {\n",
       "        vertical-align: middle;\n",
       "    }\n",
       "\n",
       "    .dataframe tbody tr th {\n",
       "        vertical-align: top;\n",
       "    }\n",
       "\n",
       "    .dataframe thead th {\n",
       "        text-align: right;\n",
       "    }\n",
       "</style>\n",
       "<table border=\"1\" class=\"dataframe\">\n",
       "  <thead>\n",
       "    <tr style=\"text-align: right;\">\n",
       "      <th></th>\n",
       "      <th>OBJECTID</th>\n",
       "      <th>NAME</th>\n",
       "      <th>POP</th>\n",
       "      <th>Area</th>\n",
       "      <th>S_Yield_Ha</th>\n",
       "      <th>M_Yield_Ha</th>\n",
       "      <th>Crop_Area_Ha</th>\n",
       "      <th>S_Area_Ha</th>\n",
       "      <th>M_Area_Ha</th>\n",
       "      <th>S_Prod_Tot</th>\n",
       "      <th>M_Prod_Tot</th>\n",
       "    </tr>\n",
       "  </thead>\n",
       "  <tbody>\n",
       "    <tr>\n",
       "      <th>2</th>\n",
       "      <td>20</td>\n",
       "      <td>KAABONG</td>\n",
       "      <td>627057</td>\n",
       "      <td>7373606003</td>\n",
       "      <td>279</td>\n",
       "      <td>945</td>\n",
       "      <td>28121.672530</td>\n",
       "      <td>20544.194960</td>\n",
       "      <td>7394.416334</td>\n",
       "      <td>5731830</td>\n",
       "      <td>6987723</td>\n",
       "    </tr>\n",
       "    <tr>\n",
       "      <th>3</th>\n",
       "      <td>85</td>\n",
       "      <td>KOTIDO</td>\n",
       "      <td>243157</td>\n",
       "      <td>3641539808</td>\n",
       "      <td>331</td>\n",
       "      <td>1148</td>\n",
       "      <td>53032.649450</td>\n",
       "      <td>50247.443900</td>\n",
       "      <td>1751.372284</td>\n",
       "      <td>16631904</td>\n",
       "      <td>2010575</td>\n",
       "    </tr>\n",
       "    <tr>\n",
       "      <th>4</th>\n",
       "      <td>5</td>\n",
       "      <td>MOROTO</td>\n",
       "      <td>127811</td>\n",
       "      <td>3570160948</td>\n",
       "      <td>128</td>\n",
       "      <td>355</td>\n",
       "      <td>5954.814048</td>\n",
       "      <td>4741.748776</td>\n",
       "      <td>1190.050606</td>\n",
       "      <td>606944</td>\n",
       "      <td>422468</td>\n",
       "    </tr>\n",
       "    <tr>\n",
       "      <th>5</th>\n",
       "      <td>54</td>\n",
       "      <td>NAKAPIRIPIRIT</td>\n",
       "      <td>146780</td>\n",
       "      <td>4216323900</td>\n",
       "      <td>356</td>\n",
       "      <td>1264</td>\n",
       "      <td>26372.698490</td>\n",
       "      <td>19237.333210</td>\n",
       "      <td>6425.788414</td>\n",
       "      <td>6848491</td>\n",
       "      <td>8122197</td>\n",
       "    </tr>\n",
       "    <tr>\n",
       "      <th>6</th>\n",
       "      <td>80</td>\n",
       "      <td>NAPAK</td>\n",
       "      <td>167625</td>\n",
       "      <td>4508782023</td>\n",
       "      <td>137</td>\n",
       "      <td>854</td>\n",
       "      <td>22944.296020</td>\n",
       "      <td>16142.015880</td>\n",
       "      <td>6543.719066</td>\n",
       "      <td>2211456</td>\n",
       "      <td>5588336</td>\n",
       "    </tr>\n",
       "  </tbody>\n",
       "</table>\n",
       "</div>"
      ],
      "text/plain": [
       "   OBJECTID           NAME     POP        Area  S_Yield_Ha  M_Yield_Ha  \\\n",
       "2        20        KAABONG  627057  7373606003         279         945   \n",
       "3        85         KOTIDO  243157  3641539808         331        1148   \n",
       "4         5         MOROTO  127811  3570160948         128         355   \n",
       "5        54  NAKAPIRIPIRIT  146780  4216323900         356        1264   \n",
       "6        80          NAPAK  167625  4508782023         137         854   \n",
       "\n",
       "   Crop_Area_Ha     S_Area_Ha    M_Area_Ha  S_Prod_Tot  M_Prod_Tot  \n",
       "2  28121.672530  20544.194960  7394.416334     5731830     6987723  \n",
       "3  53032.649450  50247.443900  1751.372284    16631904     2010575  \n",
       "4   5954.814048   4741.748776  1190.050606      606944      422468  \n",
       "5  26372.698490  19237.333210  6425.788414     6848491     8122197  \n",
       "6  22944.296020  16142.015880  6543.719066     2211456     5588336  "
      ]
     },
     "execution_count": 11,
     "metadata": {},
     "output_type": "execute_result"
    }
   ],
   "source": [
    "#view the last few rows in the dataset\n",
    "df.tail()"
   ]
  },
  {
   "cell_type": "code",
   "execution_count": 29,
   "id": "c227cc8e-2cee-49dc-9ca1-1eae10cc4b40",
   "metadata": {},
   "outputs": [
    {
     "data": {
      "text/plain": [
       "OBJECTID        0\n",
       "NAME            0\n",
       "POP             0\n",
       "Area            0\n",
       "S_Yield_Ha      0\n",
       "M_Yield_Ha      0\n",
       "Crop_Area_Ha    0\n",
       "S_Area_Ha       0\n",
       "M_Area_Ha       0\n",
       "S_Prod_Tot      0\n",
       "M_Prod_Tot      0\n",
       "dtype: int64"
      ]
     },
     "execution_count": 29,
     "metadata": {},
     "output_type": "execute_result"
    }
   ],
   "source": [
    "#check for missing values\n",
    "df.isnull().sum()"
   ]
  },
  {
   "cell_type": "code",
   "execution_count": 31,
   "id": "11b3c172-fa36-4a1e-8b5c-30993192a8f7",
   "metadata": {},
   "outputs": [
    {
     "data": {
      "text/plain": [
       "0"
      ]
     },
     "execution_count": 31,
     "metadata": {},
     "output_type": "execute_result"
    }
   ],
   "source": [
    "#check for count of missing values\n",
    "df.isnull().sum().sum() # seems no missing values"
   ]
  },
  {
   "cell_type": "code",
   "execution_count": 41,
   "id": "1b0bd9ae-d6fb-40f9-b17f-e71f971d5a14",
   "metadata": {},
   "outputs": [
    {
     "data": {
      "text/plain": [
       "0"
      ]
     },
     "execution_count": 41,
     "metadata": {},
     "output_type": "execute_result"
    }
   ],
   "source": [
    "#checkfor duplicates\n",
    "df.duplicated().sum()"
   ]
  },
  {
   "cell_type": "code",
   "execution_count": 53,
   "id": "95402857-369c-402c-a803-86ec81768bf8",
   "metadata": {},
   "outputs": [],
   "source": [
    "# check for outliers using a boxplot\n"
   ]
  },
  {
   "cell_type": "markdown",
   "id": "8f55016a",
   "metadata": {},
   "source": [
    "# Project 2: More Data, More Visualizations"
   ]
  },
  {
   "cell_type": "markdown",
   "id": "b75cfd5d",
   "metadata": {},
   "source": [
    "For this project, the students will:\n",
    "* find a data set of their choosing\n",
    "* get approval from the instructor to use that data set\n",
    "* upon approval, find another (related) data set\n",
    "* join the new data set with the original one to create an \"enriched\" data set\n",
    "* perform an open-ended Exploratory Data Analysis (EDA) on the enriched data set"
   ]
  },
  {
   "cell_type": "markdown",
   "id": "5badf739",
   "metadata": {},
   "source": [
    "Regarding the last bullet, \"open-ended\" means the student chooses the EDA that is performed. The student should have at least three types of data analysis (e.g., mean, standard deviation) and at least three types of graphs (e.g., historgram, bar graph). The student will explain why those variables were chosen for numerical or graphical analysis. Finally, the student will make note of any unusual values for any variable that is analyzed."
   ]
  }
 ],
 "metadata": {
  "kernelspec": {
   "display_name": "Python 3 (ipykernel)",
   "language": "python",
   "name": "python3"
  },
  "language_info": {
   "codemirror_mode": {
    "name": "ipython",
    "version": 3
   },
   "file_extension": ".py",
   "mimetype": "text/x-python",
   "name": "python",
   "nbconvert_exporter": "python",
   "pygments_lexer": "ipython3",
   "version": "3.12.7"
  }
 },
 "nbformat": 4,
 "nbformat_minor": 5
}
